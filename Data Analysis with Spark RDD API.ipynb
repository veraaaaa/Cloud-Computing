{
 "cells": [
  {
   "cell_type": "code",
   "execution_count": 2,
   "metadata": {},
   "outputs": [
    {
     "ename": "ModuleNotFoundError",
     "evalue": "No module named 'pyspark'",
     "output_type": "error",
     "traceback": [
      "\u001b[0;31m---------------------------------------------------------------------------\u001b[0m",
      "\u001b[0;31mModuleNotFoundError\u001b[0m                       Traceback (most recent call last)",
      "\u001b[0;32m<ipython-input-2-ee46be618299>\u001b[0m in \u001b[0;36m<module>\u001b[0;34m\u001b[0m\n\u001b[0;32m----> 1\u001b[0;31m \u001b[0;32mfrom\u001b[0m \u001b[0mpyspark\u001b[0m \u001b[0;32mimport\u001b[0m \u001b[0mSparkConf\u001b[0m\u001b[0;34m,\u001b[0m \u001b[0mSparkContext\u001b[0m\u001b[0;34m\u001b[0m\u001b[0;34m\u001b[0m\u001b[0m\n\u001b[0m",
      "\u001b[0;31mModuleNotFoundError\u001b[0m: No module named 'pyspark'"
     ]
    }
   ],
   "source": [
    "from pyspark import SparkConf, SparkContext"
   ]
  },
  {
   "cell_type": "code",
   "execution_count": 3,
   "metadata": {},
   "outputs": [
    {
     "ename": "NameError",
     "evalue": "name 'SparkConf' is not defined",
     "output_type": "error",
     "traceback": [
      "\u001b[0;31m---------------------------------------------------------------------------\u001b[0m",
      "\u001b[0;31mNameError\u001b[0m                                 Traceback (most recent call last)",
      "\u001b[0;32m<ipython-input-3-4ae3c20a1b8a>\u001b[0m in \u001b[0;36m<module>\u001b[0;34m\u001b[0m\n\u001b[0;32m----> 1\u001b[0;31m \u001b[0mspark_conf\u001b[0m \u001b[0;34m=\u001b[0m \u001b[0mSparkConf\u001b[0m\u001b[0;34m(\u001b[0m\u001b[0;34m)\u001b[0m\u001b[0;31m\\\u001b[0m\u001b[0;34m\u001b[0m\u001b[0;34m\u001b[0m\u001b[0m\n\u001b[0m\u001b[1;32m      2\u001b[0m         \u001b[0;34m.\u001b[0m\u001b[0msetAppName\u001b[0m\u001b[0;34m(\u001b[0m\u001b[0;34m\"Assignment 1\"\u001b[0m\u001b[0;34m)\u001b[0m\u001b[0;34m\u001b[0m\u001b[0;34m\u001b[0m\u001b[0m\n\u001b[1;32m      3\u001b[0m \u001b[0msc\u001b[0m\u001b[0;34m=\u001b[0m\u001b[0mSparkContext\u001b[0m\u001b[0;34m.\u001b[0m\u001b[0mgetOrCreate\u001b[0m\u001b[0;34m(\u001b[0m\u001b[0mspark_conf\u001b[0m\u001b[0;34m)\u001b[0m\u001b[0;34m\u001b[0m\u001b[0;34m\u001b[0m\u001b[0m\n\u001b[1;32m      4\u001b[0m \u001b[0mdata\u001b[0m \u001b[0;34m=\u001b[0m \u001b[0msc\u001b[0m\u001b[0;34m.\u001b[0m\u001b[0mtextFile\u001b[0m\u001b[0;34m(\u001b[0m\u001b[0;34m\"AllVideos.csv\"\u001b[0m\u001b[0;34m)\u001b[0m\u001b[0;34m\u001b[0m\u001b[0;34m\u001b[0m\u001b[0m\n",
      "\u001b[0;31mNameError\u001b[0m: name 'SparkConf' is not defined"
     ]
    }
   ],
   "source": [
    "spark_conf = SparkConf()\\\n",
    "        .setAppName(\"Assignment 1\")\n",
    "sc=SparkContext.getOrCreate(spark_conf) \n",
    "data = sc.textFile(\"AllVideos.csv\")"
   ]
  },
  {
   "cell_type": "code",
   "execution_count": 3,
   "metadata": {},
   "outputs": [],
   "source": [
    "# 3.1 Controversial Trending Videos Identification"
   ]
  },
  {
   "cell_type": "code",
   "execution_count": 4,
   "metadata": {},
   "outputs": [],
   "source": [
    "# extract data needed for the further analysized\n",
    "def extractInfo(record):\n",
    "    try:\n",
    "        video_id,trending_date,category,views,likes,dislikes,country = record.split(\",\")\n",
    "        return ((video_id, country),(trending_date,views,likes,dislikes))\n",
    "#         return (video_id,trending_date,likes, dislikes,country)\n",
    "    except:\n",
    "        return ()"
   ]
  },
  {
   "cell_type": "code",
   "execution_count": 5,
   "metadata": {},
   "outputs": [],
   "source": [
    "# calculate growth value\n",
    "def calculate(record):\n",
    "    try:\n",
    "        size = len(record)\n",
    "#         last data - first data\n",
    "        Ldifference = int(record[size-1][2]) - int(record[0][2])\n",
    "        Ddifference = int(record[size-1][3]) - int(record[0][3])\n",
    "        return(Ddifference - Ldifference)\n",
    "    except:\n",
    "        return()"
   ]
  },
  {
   "cell_type": "code",
   "execution_count": 6,
   "metadata": {},
   "outputs": [
    {
     "data": {
      "text/plain": [
       "[('QwZT7T-TXT0', 579119, 'GB'),\n",
       " ('QwZT7T-TXT0', 478100, 'US'),\n",
       " ('BEePFpC9qG8', 365862, 'DE'),\n",
       " ('RmZ3DPJQo2k', 334390, 'KR'),\n",
       " ('q8v9MvManKE', 299044, 'IN'),\n",
       " ('pOHQdIDds6s', 160365, 'CA'),\n",
       " ('ZGEoqPpJQLE', 151913, 'RU'),\n",
       " ('84LBjXaeKk4', 134836, 'FR'),\n",
       " ('84LBjXaeKk4', 134834, 'DE'),\n",
       " ('84LBjXaeKk4', 121240, 'RU')]"
      ]
     },
     "execution_count": 6,
     "metadata": {},
     "output_type": "execute_result"
    }
   ],
   "source": [
    "# extract data and display all the apperant values\n",
    "ProcessData = data.map(extractInfo)\\\n",
    "             .groupByKey()\\\n",
    "             .mapValues(list)\n",
    "\n",
    "Trend = ProcessData.sortBy(lambda r:r[1][0],ascending = True)\\\n",
    "                   .mapValues(calculate)\\\n",
    "                   .map(lambda r:(r[0][0],r[1],r[0][1]))\\\n",
    "                   .sortBy(lambda r:r[1],ascending = False)\n",
    "Trend.take(10)"
   ]
  },
  {
   "cell_type": "code",
   "execution_count": 7,
   "metadata": {},
   "outputs": [],
   "source": [
    "# 3.2 Category and Trending Correlation"
   ]
  },
  {
   "cell_type": "code",
   "execution_count": 8,
   "metadata": {},
   "outputs": [],
   "source": [
    "# extract data()\n",
    "def extract(record):\n",
    "    try:\n",
    "        video_id,trending_date,category,views,likes,dislikes,country = record.split(\",\")\n",
    "        return ((category, video_id), country)\n",
    "    except:\n",
    "        return ()"
   ]
  },
  {
   "cell_type": "code",
   "execution_count": 9,
   "metadata": {},
   "outputs": [],
   "source": [
    "# get all the countries that individuals ids has apperead \n",
    "def countries(countries, country):\n",
    "    if country not in countries:\n",
    "        countries = countries + \"|\" + country\n",
    "\n",
    "    return countries"
   ]
  },
  {
   "cell_type": "code",
   "execution_count": 10,
   "metadata": {},
   "outputs": [],
   "source": [
    "# get all total amount of the countries\n",
    "def get_length(lists):\n",
    "    country_list = lists[1].strip().split(\"|\")\n",
    "    return (lists[0], len(set(country_list)))"
   ]
  },
  {
   "cell_type": "code",
   "execution_count": 11,
   "metadata": {},
   "outputs": [],
   "source": [
    "# remove the video_id in this function return category,total amount\n",
    "def remove_movie_id(lists):\n",
    "    i,j = lists[0], lists[1]\n",
    "    new = i[0]\n",
    "    return (new, j)"
   ]
  },
  {
   "cell_type": "code",
   "execution_count": 12,
   "metadata": {},
   "outputs": [],
   "source": [
    "# get the the cumulative sum of countries included in each id, all ids appeared in a certain category\n",
    "def cumulativeSum(lists, current_country_number):\n",
    "    total_country_number, total_movie_id_number = lists\n",
    "    total_country_number  = total_country_number + current_country_number\n",
    "    total_movie_id_number = total_movie_id_number + 1\n",
    "    return (total_country_number,total_movie_id_number)"
   ]
  },
  {
   "cell_type": "code",
   "execution_count": 13,
   "metadata": {},
   "outputs": [],
   "source": [
    "def merge_numbers(pair1, pair2):\n",
    "    country_number1 ,id_number1 = pair1\n",
    "    country_number2 ,id_number2 = pair2\n",
    "    return (country_number1+country_number2, id_number1+id_number2)"
   ]
  },
  {
   "cell_type": "code",
   "execution_count": 14,
   "metadata": {},
   "outputs": [],
   "source": [
    "def AverageCalculation(lists):\n",
    "    category, total_countries_ids = lists\n",
    "\n",
    "    average_trending = total_countries_ids[0] / total_countries_ids[1]\n",
    "    return (category,average_trending)"
   ]
  },
  {
   "cell_type": "code",
   "execution_count": 15,
   "metadata": {},
   "outputs": [
    {
     "data": {
      "text/plain": [
       "[('Entertainment', (60617.0, 52959.0)),\n",
       " ('People & Blogs', (35405.0, 33279.0)),\n",
       " ('News & Politics', (23367.0, 22197.0)),\n",
       " ('Sports', (15475.0, 13549.0)),\n",
       " ('Film & Animation', (10784.0, 9235.0)),\n",
       " ('Music', (13805.0, 10534.0)),\n",
       " ('Comedy', (13042.0, 10741.0)),\n",
       " ('Nonprofits & Activism', (2102.0, 1988.0)),\n",
       " ('Howto & Style', (10599.0, 9746.0)),\n",
       " ('Education', (4343.0, 4086.0)),\n",
       " ('Science & Technology', (4038.0, 3473.0)),\n",
       " ('Pets & Animals', (2495.0, 2331.0)),\n",
       " ('Gaming', (6119.0, 5591.0)),\n",
       " ('Travel & Events', (929.0, 850.0)),\n",
       " ('Autos & Vehicles', (3478.0, 3413.0)),\n",
       " ('Shows', (678.0, 436.0)),\n",
       " ('Movies', (15.0, 12.0)),\n",
       " ('Trailers', (3.0, 3.0))]"
      ]
     },
     "execution_count": 15,
     "metadata": {},
     "output_type": "execute_result"
    }
   ],
   "source": [
    "# extract necessary data to perform analysis \n",
    "raw_data = data.map(extract)\n",
    "# get total amount of the countries that has the same video_id showns\n",
    "# data = raw_data.reduceByKey(ids_country).map(total_amount)\n",
    "datas = raw_data.reduceByKey(countries).map(get_length)\n",
    "# aggregateBykey(initialvalue,\n",
    "# operation when key is same \n",
    "# operation when key is different )\n",
    "Average = datas.map(remove_movie_id)\\\n",
    "          .aggregateByKey((0.0, 0.0), cumulativeSum, merge_numbers, 1)\\\n",
    "#           .map(AverageCalculation)\n",
    "# list out all the content\n",
    "Average.take(200)"
   ]
  },
  {
   "cell_type": "code",
   "execution_count": null,
   "metadata": {},
   "outputs": [],
   "source": []
  }
 ],
 "metadata": {
  "kernelspec": {
   "display_name": "Python 3",
   "language": "python",
   "name": "python3"
  },
  "language_info": {
   "codemirror_mode": {
    "name": "ipython",
    "version": 3
   },
   "file_extension": ".py",
   "mimetype": "text/x-python",
   "name": "python",
   "nbconvert_exporter": "python",
   "pygments_lexer": "ipython3",
   "version": "3.9.0"
  }
 },
 "nbformat": 4,
 "nbformat_minor": 5
}
